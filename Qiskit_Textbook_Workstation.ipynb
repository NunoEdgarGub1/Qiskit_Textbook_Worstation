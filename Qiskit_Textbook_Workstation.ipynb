{
 "cells": [
  {
   "cell_type": "markdown",
   "metadata": {},
   "source": [
    "# Qiskit Workbook Workstation\n",
    "\n",
    "This is workstation for the Qiskit Textbook page from **Qiskit** comprehensive documentation (https://qiskit.org/) It will be a Notebook to store all the solved exercises we encounter in the Qiskit Textbook, and further the main quantum computing algorithms we can find and run/solve/*improve* in the textbook."
   ]
  },
  {
   "cell_type": "code",
   "execution_count": 4,
   "metadata": {},
   "outputs": [
    {
     "name": "stdout",
     "output_type": "stream",
     "text": [
      "Requirement already satisfied: qiskit in c:\\users\\utilizador\\anaconda\\lib\\site-packages\n",
      "Requirement already satisfied: qiskit-ibmq-provider==0.11.1 in c:\\users\\utilizador\\anaconda\\lib\\site-packages (from qiskit)\n",
      "Requirement already satisfied: qiskit-terra==0.16.1 in c:\\users\\utilizador\\anaconda\\lib\\site-packages (from qiskit)\n",
      "Requirement already satisfied: qiskit-aqua==0.8.1 in c:\\users\\utilizador\\anaconda\\lib\\site-packages (from qiskit)\n",
      "Requirement already satisfied: qiskit-aer==0.7.2 in c:\\users\\utilizador\\anaconda\\lib\\site-packages (from qiskit)\n",
      "Requirement already satisfied: qiskit-ignis==0.5.1 in c:\\users\\utilizador\\anaconda\\lib\\site-packages (from qiskit)\n",
      "Requirement already satisfied: numpy>=1.13 in c:\\users\\utilizador\\anaconda\\lib\\site-packages (from qiskit-ibmq-provider==0.11.1->qiskit)\n",
      "Requirement already satisfied: nest-asyncio!=1.1.0,>=1.0.0 in c:\\users\\utilizador\\anaconda\\lib\\site-packages (from qiskit-ibmq-provider==0.11.1->qiskit)\n",
      "Requirement already satisfied: requests>=2.19 in c:\\users\\utilizador\\anaconda\\lib\\site-packages (from qiskit-ibmq-provider==0.11.1->qiskit)\n",
      "Requirement already satisfied: requests-ntlm>=1.1.0 in c:\\users\\utilizador\\anaconda\\lib\\site-packages (from qiskit-ibmq-provider==0.11.1->qiskit)\n",
      "Requirement already satisfied: python-dateutil>=2.8.0 in c:\\users\\utilizador\\anaconda\\lib\\site-packages (from qiskit-ibmq-provider==0.11.1->qiskit)\n",
      "Requirement already satisfied: urllib3>=1.21.1 in c:\\users\\utilizador\\anaconda\\lib\\site-packages (from qiskit-ibmq-provider==0.11.1->qiskit)\n",
      "Requirement already satisfied: websockets>=8 in c:\\users\\utilizador\\anaconda\\lib\\site-packages (from qiskit-ibmq-provider==0.11.1->qiskit)\n",
      "Requirement already satisfied: python-constraint>=1.4 in c:\\users\\utilizador\\anaconda\\lib\\site-packages (from qiskit-terra==0.16.1->qiskit)\n",
      "Requirement already satisfied: contextvars>=2.4; python_version < \"3.7\" in c:\\users\\utilizador\\anaconda\\lib\\site-packages (from qiskit-terra==0.16.1->qiskit)\n",
      "Requirement already satisfied: psutil>=5 in c:\\users\\utilizador\\anaconda\\lib\\site-packages (from qiskit-terra==0.16.1->qiskit)\n",
      "Requirement already satisfied: networkx>=2.2 in c:\\users\\utilizador\\anaconda\\lib\\site-packages (from qiskit-terra==0.16.1->qiskit)\n",
      "Requirement already satisfied: retworkx>=0.5.0 in c:\\users\\utilizador\\anaconda\\lib\\site-packages (from qiskit-terra==0.16.1->qiskit)\n",
      "Requirement already satisfied: sympy>=1.3 in c:\\users\\utilizador\\anaconda\\lib\\site-packages (from qiskit-terra==0.16.1->qiskit)\n",
      "Requirement already satisfied: jsonschema>=2.6 in c:\\users\\utilizador\\anaconda\\lib\\site-packages (from qiskit-terra==0.16.1->qiskit)\n",
      "Requirement already satisfied: ply>=3.10 in c:\\users\\utilizador\\anaconda\\lib\\site-packages (from qiskit-terra==0.16.1->qiskit)\n",
      "Requirement already satisfied: dill>=0.3 in c:\\users\\utilizador\\anaconda\\lib\\site-packages (from qiskit-terra==0.16.1->qiskit)\n",
      "Requirement already satisfied: fastjsonschema>=2.10 in c:\\users\\utilizador\\anaconda\\lib\\site-packages (from qiskit-terra==0.16.1->qiskit)\n",
      "Requirement already satisfied: scipy>=1.4 in c:\\users\\utilizador\\anaconda\\lib\\site-packages (from qiskit-terra==0.16.1->qiskit)\n",
      "Requirement already satisfied: docplex in c:\\users\\utilizador\\anaconda\\lib\\site-packages (from qiskit-aqua==0.8.1->qiskit)\n",
      "Requirement already satisfied: yfinance in c:\\users\\utilizador\\anaconda\\lib\\site-packages (from qiskit-aqua==0.8.1->qiskit)\n",
      "Requirement already satisfied: pandas in c:\\users\\utilizador\\anaconda\\lib\\site-packages (from qiskit-aqua==0.8.1->qiskit)\n",
      "Requirement already satisfied: setuptools>=40.1.0 in c:\\users\\utilizador\\anaconda\\lib\\site-packages (from qiskit-aqua==0.8.1->qiskit)\n",
      "Requirement already satisfied: fastdtw in c:\\users\\utilizador\\anaconda\\lib\\site-packages (from qiskit-aqua==0.8.1->qiskit)\n",
      "Requirement already satisfied: quandl in c:\\users\\utilizador\\anaconda\\lib\\site-packages (from qiskit-aqua==0.8.1->qiskit)\n",
      "Collecting scikit-learn>=0.20.0 (from qiskit-aqua==0.8.1->qiskit)\n",
      "  Downloading https://files.pythonhosted.org/packages/3c/d3/63700971e89bc5024d4356310229f5cdc93927c8c8bf95c53bb7b5e4a62e/scikit_learn-0.24.1-cp36-cp36m-win_amd64.whl (6.8MB)\n",
      "Requirement already satisfied: h5py in c:\\users\\utilizador\\anaconda\\lib\\site-packages (from qiskit-aqua==0.8.1->qiskit)\n",
      "Requirement already satisfied: dlx in c:\\users\\utilizador\\anaconda\\lib\\site-packages (from qiskit-aqua==0.8.1->qiskit)\n",
      "Requirement already satisfied: cython>=0.27.1 in c:\\users\\utilizador\\anaconda\\lib\\site-packages (from qiskit-aer==0.7.2->qiskit)\n",
      "Requirement already satisfied: pybind11>=2.4 in c:\\users\\utilizador\\anaconda\\lib\\site-packages (from qiskit-aer==0.7.2->qiskit)\n",
      "Requirement already satisfied: chardet<5,>=3.0.2 in c:\\users\\utilizador\\anaconda\\lib\\site-packages (from requests>=2.19->qiskit-ibmq-provider==0.11.1->qiskit)\n",
      "Requirement already satisfied: certifi>=2017.4.17 in c:\\users\\utilizador\\anaconda\\lib\\site-packages (from requests>=2.19->qiskit-ibmq-provider==0.11.1->qiskit)\n",
      "Requirement already satisfied: idna<3,>=2.5 in c:\\users\\utilizador\\anaconda\\lib\\site-packages (from requests>=2.19->qiskit-ibmq-provider==0.11.1->qiskit)\n",
      "Requirement already satisfied: ntlm-auth>=1.0.2 in c:\\users\\utilizador\\anaconda\\lib\\site-packages (from requests-ntlm>=1.1.0->qiskit-ibmq-provider==0.11.1->qiskit)\n",
      "Requirement already satisfied: cryptography>=1.3 in c:\\users\\utilizador\\anaconda\\lib\\site-packages (from requests-ntlm>=1.1.0->qiskit-ibmq-provider==0.11.1->qiskit)\n",
      "Requirement already satisfied: six>=1.5 in c:\\users\\utilizador\\appdata\\roaming\\python\\python36\\site-packages (from python-dateutil>=2.8.0->qiskit-ibmq-provider==0.11.1->qiskit)\n",
      "Requirement already satisfied: immutables>=0.9 in c:\\users\\utilizador\\anaconda\\lib\\site-packages (from contextvars>=2.4; python_version < \"3.7\"->qiskit-terra==0.16.1->qiskit)\n",
      "Requirement already satisfied: decorator>=4.3.0 in c:\\users\\utilizador\\anaconda\\lib\\site-packages (from networkx>=2.2->qiskit-terra==0.16.1->qiskit)\n",
      "Requirement already satisfied: mpmath>=0.19 in c:\\users\\utilizador\\anaconda\\lib\\site-packages (from sympy>=1.3->qiskit-terra==0.16.1->qiskit)\n",
      "Requirement already satisfied: lxml>=4.5.1 in c:\\users\\utilizador\\anaconda\\lib\\site-packages (from yfinance->qiskit-aqua==0.8.1->qiskit)\n",
      "Requirement already satisfied: multitasking>=0.0.7 in c:\\users\\utilizador\\anaconda\\lib\\site-packages (from yfinance->qiskit-aqua==0.8.1->qiskit)\n",
      "Requirement already satisfied: pytz>=2011k in c:\\users\\utilizador\\anaconda\\lib\\site-packages (from pandas->qiskit-aqua==0.8.1->qiskit)\n",
      "Requirement already satisfied: inflection>=0.3.1 in c:\\users\\utilizador\\anaconda\\lib\\site-packages (from quandl->qiskit-aqua==0.8.1->qiskit)\n",
      "Requirement already satisfied: more-itertools in c:\\users\\utilizador\\anaconda\\lib\\site-packages (from quandl->qiskit-aqua==0.8.1->qiskit)\n",
      "Collecting threadpoolctl>=2.0.0 (from scikit-learn>=0.20.0->qiskit-aqua==0.8.1->qiskit)\n",
      "  Downloading https://files.pythonhosted.org/packages/f7/12/ec3f2e203afa394a149911729357aa48affc59c20e2c1c8297a60f33f133/threadpoolctl-2.1.0-py3-none-any.whl\n",
      "Collecting joblib>=0.11 (from scikit-learn>=0.20.0->qiskit-aqua==0.8.1->qiskit)\n",
      "  Downloading https://files.pythonhosted.org/packages/34/5b/bd0f0fb5564183884d8e35b81d06d7ec06a20d1a0c8b4c407f1554691dce/joblib-1.0.0-py3-none-any.whl (302kB)\n",
      "Requirement already satisfied: asn1crypto>=0.21.0 in c:\\users\\utilizador\\anaconda\\lib\\site-packages (from cryptography>=1.3->requests-ntlm>=1.1.0->qiskit-ibmq-provider==0.11.1->qiskit)\n",
      "Requirement already satisfied: cffi>=1.7 in c:\\users\\utilizador\\anaconda\\lib\\site-packages (from cryptography>=1.3->requests-ntlm>=1.1.0->qiskit-ibmq-provider==0.11.1->qiskit)\n",
      "Requirement already satisfied: pycparser in c:\\users\\utilizador\\anaconda\\lib\\site-packages (from cffi>=1.7->cryptography>=1.3->requests-ntlm>=1.1.0->qiskit-ibmq-provider==0.11.1->qiskit)\n",
      "Installing collected packages: threadpoolctl, joblib, scikit-learn\n",
      "  Found existing installation: scikit-learn 0.19.1\n",
      "    Uninstalling scikit-learn-0.19.1:\n",
      "      Successfully uninstalled scikit-learn-0.19.1\n",
      "Successfully installed joblib-1.0.0 scikit-learn-0.24.1 threadpoolctl-2.1.0\n"
     ]
    },
    {
     "name": "stderr",
     "output_type": "stream",
     "text": [
      "You are using pip version 9.0.1, however version 20.3.3 is available.\n",
      "You should consider upgrading via the 'python -m pip install --upgrade pip' command.\n"
     ]
    }
   ],
   "source": [
    "!pip install qiskit\n"
   ]
  },
  {
   "cell_type": "code",
   "execution_count": null,
   "metadata": {
    "scrolled": true
   },
   "outputs": [],
   "source": [
    "from setuptools import setup, find_packages\n",
    "\n",
    "setup(\n",
    "  name='qiskit-textbook',\n",
    "  version='0.1.0',\n",
    "  author='Qiskit Team',\n",
    "  author_email='hello@qiskit.org',\n",
    "  description='''A collection of widgets, tools and games for using along\n",
    "  the Qiskit Textbook. See the textbook and a list of contributors at qiskit.org/textbook''',\n",
    "  packages=find_packages(),\n",
    "  install_requires=[\n",
    "    'qiskit',\n",
    "    'ipython',\n",
    "    'ipywidgets',\n",
    "    'numpy',\n",
    "    'matplotlib'\n",
    "  ]\n",
    ") "
   ]
  },
  {
   "cell_type": "markdown",
   "metadata": {},
   "source": [
    "# Getting Qiskit started\n",
    "\n",
    "In the following cells I'll present exampl,les of the first basic operations we can do in Qiskit. This will be pf further relevance as we move forward with the Textbook."
   ]
  },
  {
   "cell_type": "code",
   "execution_count": 6,
   "metadata": {
    "collapsed": true
   },
   "outputs": [],
   "source": [
    "import qiskit\n",
    "import matplotlib as plt\n",
    "import numpy as np\n",
    "import pandas as pd\n",
    "import math "
   ]
  },
  {
   "cell_type": "code",
   "execution_count": 7,
   "metadata": {
    "collapsed": true
   },
   "outputs": [],
   "source": [
    "from qiskit import(\n",
    "  QuantumCircuit,\n",
    "  execute,\n",
    "  Aer)\n",
    "from qiskit.visualization import plot_histogram "
   ]
  },
  {
   "cell_type": "code",
   "execution_count": 9,
   "metadata": {},
   "outputs": [
    {
     "name": "stdout",
     "output_type": "stream",
     "text": [
      "\n",
      "Total count for 00 and 11 are: {'00': 519, '11': 481}\n"
     ]
    },
    {
     "data": {
      "text/html": [
       "<pre style=\"word-wrap: normal;white-space: pre;background: #fff0;line-height: 1.1;font-family: &quot;Courier New&quot;,Courier,monospace\">     ┌───┐     ┌─┐   \n",
       "q_0: ┤ H ├──■──┤M├───\n",
       "     └───┘┌─┴─┐└╥┘┌─┐\n",
       "q_1: ─────┤ X ├─╫─┤M├\n",
       "          └───┘ ║ └╥┘\n",
       "c: 2/═══════════╩══╩═\n",
       "                0  1 </pre>"
      ],
      "text/plain": [
       "     ┌───┐     ┌─┐   \n",
       "q_0: ┤ H ├──■──┤M├───\n",
       "     └───┘┌─┴─┐└╥┘┌─┐\n",
       "q_1: ─────┤ X ├─╫─┤M├\n",
       "          └───┘ ║ └╥┘\n",
       "c: 2/═══════════╩══╩═\n",
       "                0  1 "
      ]
     },
     "execution_count": 9,
     "metadata": {},
     "output_type": "execute_result"
    }
   ],
   "source": [
    "# Use Aer's qasm_simulator\n",
    "simulator = Aer.get_backend('qasm_simulator')\n",
    "\n",
    "# Create a Quantum Circuit acting on the q register\n",
    "circuit = QuantumCircuit(2, 2)\n",
    "\n",
    "# Add a H gate on qubit 0\n",
    "circuit.h(0)\n",
    "\n",
    "# Add a CX (CNOT) gate on control qubit 0 and target qubit 1\n",
    "circuit.cx(0, 1)\n",
    "\n",
    "# Map the quantum measurement to the classical bits\n",
    "circuit.measure([0,1], [0,1])\n",
    "\n",
    "# Execute the circuit on the qasm simulator\n",
    "job = execute(circuit, simulator, shots=1000)\n",
    "\n",
    "# Grab results from the job\n",
    "result = job.result()\n",
    "\n",
    "# Returns counts\n",
    "counts = result.get_counts(circuit)\n",
    "print(\"\\nTotal count for 00 and 11 are:\",counts)\n",
    "\n",
    "# Draw the circuit\n",
    "circuit.draw()\n"
   ]
  },
  {
   "cell_type": "code",
   "execution_count": null,
   "metadata": {
    "collapsed": true
   },
   "outputs": [],
   "source": []
  }
 ],
 "metadata": {
  "kernelspec": {
   "display_name": "Python 3",
   "language": "python",
   "name": "python3"
  },
  "language_info": {
   "codemirror_mode": {
    "name": "ipython",
    "version": 3
   },
   "file_extension": ".py",
   "mimetype": "text/x-python",
   "name": "python",
   "nbconvert_exporter": "python",
   "pygments_lexer": "ipython3",
   "version": "3.6.3"
  }
 },
 "nbformat": 4,
 "nbformat_minor": 2
}
